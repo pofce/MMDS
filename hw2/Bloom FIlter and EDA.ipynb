{
  "nbformat": 4,
  "nbformat_minor": 0,
  "metadata": {
    "kernelspec": {
      "display_name": "Python 3",
      "language": "python",
      "name": "python3"
    },
    "language_info": {
      "codemirror_mode": {
        "name": "ipython",
        "version": 3
      },
      "file_extension": ".py",
      "mimetype": "text/x-python",
      "name": "python",
      "nbconvert_exporter": "python",
      "pygments_lexer": "ipython3",
      "version": "3.8.5"
    },
    "colab": {
      "provenance": []
    }
  },
  "cells": [
    {
      "cell_type": "code",
      "metadata": {
        "id": "cmnyXwp-PRNd",
        "colab": {
          "base_uri": "https://localhost:8080/"
        },
        "outputId": "2e7be969-34de-45a1-9700-5bcb853c7853"
      },
      "source": [
        "!pip install sseclient mmh3 bitarray"
      ],
      "execution_count": 110,
      "outputs": [
        {
          "output_type": "stream",
          "name": "stdout",
          "text": [
            "Requirement already satisfied: sseclient in /usr/local/lib/python3.10/dist-packages (0.0.27)\n",
            "Requirement already satisfied: mmh3 in /usr/local/lib/python3.10/dist-packages (5.0.1)\n",
            "Requirement already satisfied: bitarray in /usr/local/lib/python3.10/dist-packages (3.0.0)\n",
            "Requirement already satisfied: requests>=2.9 in /usr/local/lib/python3.10/dist-packages (from sseclient) (2.32.3)\n",
            "Requirement already satisfied: six in /usr/local/lib/python3.10/dist-packages (from sseclient) (1.16.0)\n",
            "Requirement already satisfied: charset-normalizer<4,>=2 in /usr/local/lib/python3.10/dist-packages (from requests>=2.9->sseclient) (3.4.0)\n",
            "Requirement already satisfied: idna<4,>=2.5 in /usr/local/lib/python3.10/dist-packages (from requests>=2.9->sseclient) (3.10)\n",
            "Requirement already satisfied: urllib3<3,>=1.21.1 in /usr/local/lib/python3.10/dist-packages (from requests>=2.9->sseclient) (2.2.3)\n",
            "Requirement already satisfied: certifi>=2017.4.17 in /usr/local/lib/python3.10/dist-packages (from requests>=2.9->sseclient) (2024.8.30)\n"
          ]
        }
      ]
    },
    {
      "cell_type": "code",
      "source": [
        "from pyspark.sql import SparkSession\n",
        "from pyspark.sql.functions import col, from_json, udf\n",
        "from pyspark.sql.types import StructType, StructField, StringType, IntegerType, BooleanType, LongType\n",
        "spark = SparkSession.builder \\\n",
        "    .appName(\"WikipediaBotFilter\") \\\n",
        "    .getOrCreate()"
      ],
      "metadata": {
        "id": "QkpomjQphvCG"
      },
      "execution_count": 2,
      "outputs": []
    },
    {
      "cell_type": "code",
      "source": [
        "import zipfile\n",
        "import os\n",
        "\n",
        "def unzip_archive(archive_path, extract_dir):\n",
        "    \"\"\"\n",
        "    Unzips the specified archive into the given directory.\n",
        "\n",
        "    :param archive_path: Path to the ZIP archive.\n",
        "    :param extract_dir: Directory where files will be extracted.\n",
        "    \"\"\"\n",
        "    # Create the extraction directory if it doesn't exist\n",
        "    os.makedirs(extract_dir, exist_ok=True)\n",
        "\n",
        "    with zipfile.ZipFile(archive_path, 'r') as zip_ref:\n",
        "        zip_ref.extractall(extract_dir)\n",
        "    print(f\"Extracted all files to {extract_dir}\")\n",
        "\n",
        "# Example Usage\n",
        "archive_path = '/content/sample_data.zip'        # Replace with your ZIP file path\n",
        "extract_dir = '/content/extracted_csvs_new'          # Replace with your desired extraction path\n",
        "\n",
        "unzip_archive(archive_path, extract_dir)\n"
      ],
      "metadata": {
        "colab": {
          "base_uri": "https://localhost:8080/"
        },
        "id": "h-JYlJuYYqqU",
        "outputId": "48ae6a1c-9eb2-4b17-c75c-5169a0dff6f9"
      },
      "execution_count": 3,
      "outputs": [
        {
          "output_type": "stream",
          "name": "stdout",
          "text": [
            "Extracted all files to /content/extracted_csvs_new\n"
          ]
        }
      ]
    },
    {
      "cell_type": "code",
      "source": [
        "from pyspark.sql.types import ArrayType, StructType, StructField, StringType, IntegerType, BooleanType, LongType\n",
        "\n",
        "schema = StructType([\n",
        "    StructField(\"id\", LongType(), True),\n",
        "    StructField(\"title\", StringType(), True),\n",
        "    StructField(\"user\", StringType(), True),\n",
        "    StructField(\"bot\", BooleanType(), True),\n",
        "    StructField(\"length\", IntegerType(), True),\n",
        "    StructField(\"wiki\", StringType(), True),\n",
        "    StructField(\"timestamp\", StringType(), True),\n",
        "    StructField(\"minor\", BooleanType(), True),\n",
        "    StructField(\"comment\", StringType(), True),\n",
        "])\n",
        "\n",
        "df = spark.read.csv(\n",
        "    path=\"/content/extracted_csvs_new/sample_data/*.csv\",\n",
        "    header=True,\n",
        "    schema = schema\n",
        ")\n",
        "\n",
        "df.printSchema()\n",
        "df.show(5)"
      ],
      "metadata": {
        "colab": {
          "base_uri": "https://localhost:8080/"
        },
        "id": "liiRpRwSY50e",
        "outputId": "25c3dac1-7783-4578-d05d-03146f52479a"
      },
      "execution_count": 130,
      "outputs": [
        {
          "output_type": "stream",
          "name": "stdout",
          "text": [
            "root\n",
            " |-- id: long (nullable = true)\n",
            " |-- title: string (nullable = true)\n",
            " |-- user: string (nullable = true)\n",
            " |-- bot: boolean (nullable = true)\n",
            " |-- length: integer (nullable = true)\n",
            " |-- wiki: string (nullable = true)\n",
            " |-- timestamp: string (nullable = true)\n",
            " |-- minor: boolean (nullable = true)\n",
            " |-- comment: string (nullable = true)\n",
            "\n",
            "+----------+--------------------+--------------+-----+------+------+-------------------+-----+--------------------+\n",
            "|        id|               title|          user|  bot|length|  wiki|          timestamp|minor|             comment|\n",
            "+----------+--------------------+--------------+-----+------+------+-------------------+-----+--------------------+\n",
            "|1833392304|1981 Golbaf earth...|Dawnseeker2000|false|   -27|enwiki|2024-10-27 02:55:48| true|[[WP:AWB/T|Typo f...|\n",
            "|1833392603|     Lebanese Arabic| 70.83.137.110|false|    -8|enwiki|2024-10-27 02:56:21|false|                NULL|\n",
            "|1833392715|The Galway Races ...|JJMC89 bot III| true|    12|enwiki|2024-10-27 02:56:36| true|Moving [[:Categor...|\n",
            "|1833392803|        Khmer people|  TansoShoshen|false|   -11|enwiki|2024-10-27 02:56:39| true|Again this photo ...|\n",
            "|1833392919|         Han Wha-jin|   Seefooddiet|false|   -14|enwiki|2024-10-27 02:57:00|false|Formatting for Ko...|\n",
            "+----------+--------------------+--------------+-----+------+------+-------------------+-----+--------------------+\n",
            "only showing top 5 rows\n",
            "\n"
          ]
        }
      ]
    },
    {
      "cell_type": "code",
      "source": [
        "bot_df = df.filter(col(\"bot\") == True)"
      ],
      "metadata": {
        "id": "j-oHOZDqbXW0"
      },
      "execution_count": 34,
      "outputs": []
    },
    {
      "cell_type": "code",
      "source": [
        "human_df = df.filter(col(\"bot\") == False)"
      ],
      "metadata": {
        "id": "lOA1HyGDVn5T"
      },
      "execution_count": 35,
      "outputs": []
    },
    {
      "cell_type": "code",
      "source": [
        "import pandas as pd\n",
        "import seaborn as sns\n",
        "import matplotlib.pyplot as plt\n",
        "\n",
        "from pyspark.sql import SparkSession\n",
        "from pyspark.sql.functions import when, col, to_timestamp, avg, abs\n",
        "\n",
        "# Create SparkSession\n",
        "spark = SparkSession.builder.appName(\"WikipediaEdits\").getOrCreate()\n",
        "\n",
        "# Convert timestamp to PySpark timestamp type\n",
        "df = df.withColumn(\"timestamp\", to_timestamp(\"timestamp\"))\n",
        "\n",
        "# Handle None values\n",
        "df = df.fillna({\"length\": 0, \"bot\": False})  # Replace None in numeric and boolean columns\n",
        "\n",
        "# Use absolute values for length\n",
        "df = df.withColumn(\"length\", abs(col(\"length\")))\n",
        "\n",
        "# Group by `bot` and calculate average length\n",
        "avg_length_df = df.groupBy(\"bot\").agg(avg(\"length\").alias(\"avg_length\"))\n",
        "\n",
        "# Convert Spark DataFrame to Pandas DataFrame for visualization\n",
        "avg_length_pandas_df = avg_length_df.toPandas()\n",
        "\n",
        "# Ensure categorical consistency\n",
        "avg_length_pandas_df[\"bot\"] = avg_length_pandas_df[\"bot\"].astype(str)\n",
        "\n",
        "# Bar Chart Visualization\n",
        "plt.figure(figsize=(10, 6))\n",
        "sns.barplot(data=avg_length_pandas_df, x=\"bot\", y=\"avg_length\")\n",
        "plt.title(\"Average Edit Length (Absolute Values) by Bot Status\")\n",
        "plt.xlabel(\"Bot Status\")\n",
        "plt.ylabel(\"Average Edit Length\")\n",
        "plt.show()\n"
      ],
      "metadata": {
        "colab": {
          "base_uri": "https://localhost:8080/",
          "height": 564
        },
        "id": "n7KAiAB64-cY",
        "outputId": "a3ec65cb-0f67-4e54-ec30-e6321ab4df3e"
      },
      "execution_count": 132,
      "outputs": [
        {
          "output_type": "display_data",
          "data": {
            "text/plain": [
              "<Figure size 1000x600 with 1 Axes>"
            ],
            "image/png": "[encoded data removed]"
          },
          "metadata": {}
        }
      ]
    },
    {
      "cell_type": "code",
      "source": [
        "# Count occurrences of `minor` for each `bot` class\n",
        "minor_counts_df = df.groupBy(\"bot\", \"minor\").agg(count(\"*\").alias(\"count\"))\n",
        "\n",
        "# Convert Spark DataFrame to Pandas DataFrame for visualization\n",
        "minor_counts_pandas_df = minor_counts_df.toPandas()\n",
        "\n",
        "# Ensure categorical consistency\n",
        "minor_counts_pandas_df[\"bot\"] = minor_counts_pandas_df[\"bot\"].astype(str)\n",
        "minor_counts_pandas_df[\"minor\"] = minor_counts_pandas_df[\"minor\"].astype(str)\n",
        "\n",
        "# Bar Chart Visualization\n",
        "plt.figure(figsize=(10, 6))\n",
        "sns.barplot(data=minor_counts_pandas_df, x=\"bot\", y=\"count\", hue=\"minor\")\n",
        "plt.title(\"Count of Minor Edits by Bot Status\")\n",
        "plt.xlabel(\"Bot Status\")\n",
        "plt.ylabel(\"Count of Edits\")\n",
        "plt.legend(title=\"Minor Edit\")\n",
        "plt.show()"
      ],
      "metadata": {
        "colab": {
          "base_uri": "https://localhost:8080/",
          "height": 564
        },
        "id": "ceafO1HR9x37",
        "outputId": "fb0cb163-aead-4425-957c-2ef94f7136ef"
      },
      "execution_count": 133,
      "outputs": [
        {
          "output_type": "display_data",
          "data": {
            "text/plain": [
              "<Figure size 1000x600 with 1 Axes>"
            ],
            "image/png": "[encoded data removed]"
          },
          "metadata": {}
        }
      ]
    },
    {
      "cell_type": "code",
      "source": [
        "df = df.withColumn(\"date\", to_date(\"timestamp\"))\n",
        "\n",
        "# Calculate the number of edits for each user on a specific date\n",
        "user_date_edits = df.groupBy(\"user\", \"date\").agg(count(\"*\").alias(\"user_edits\"))\n",
        "\n",
        "# Join back to the original DataFrame to add the number of edits per user per date\n",
        "df = df.join(user_date_edits, on=[\"user\", \"date\"])\n",
        "\n",
        "# Group by bot type and calculate the average number of edits\n",
        "avg_edits_by_bot = df.groupBy(\"bot\").agg(avg(\"user_edits\").alias(\"avg_user_edits\"))\n",
        "\n",
        "# Convert to Pandas for plotting\n",
        "avg_edits_by_bot_pandas = avg_edits_by_bot.toPandas()\n",
        "\n",
        "# Ensure bot is a string for plotting\n",
        "avg_edits_by_bot_pandas[\"bot\"] = avg_edits_by_bot_pandas[\"bot\"].astype(str)\n",
        "\n",
        "# Bar Plot\n",
        "plt.figure(figsize=(10, 6))\n",
        "sns.barplot(data=avg_edits_by_bot_pandas, x=\"bot\", y=\"avg_user_edits\")\n",
        "plt.title(\"Average Number of Edits per User per Day by Bot Type\")\n",
        "plt.xlabel(\"Bot Status\")\n",
        "plt.ylabel(\"Average Number of Edits\")\n",
        "plt.show()"
      ],
      "metadata": {
        "colab": {
          "base_uri": "https://localhost:8080/",
          "height": 564
        },
        "id": "XWHY6NR79bKs",
        "outputId": "cd9ccd33-9b96-4a0d-e147-f0fedf994b0c"
      },
      "execution_count": 134,
      "outputs": [
        {
          "output_type": "display_data",
          "data": {
            "text/plain": [
              "<Figure size 1000x600 with 1 Axes>"
            ],
            "image/png": "[encoded data removed]"
          },
          "metadata": {}
        }
      ]
    },
    {
      "cell_type": "code",
      "source": [
        "from pyspark.sql.functions import col, lower, explode, split, regexp_replace, hour, when, count\n",
        "\n",
        "df = df.withColumn('comment', col('comment').cast('string'))\n",
        "df = df.withColumn('user', col('user').cast('string'))\n",
        "\n",
        "# Convert 'timestamp' to timestamp type\n",
        "df = df.withColumn('timestamp', (col('timestamp')).cast('timestamp'))\n",
        "\n",
        "# Separate bot and human edits using the 'bot' field\n",
        "bot_edits = df.filter(col('bot') == True)\n",
        "human_edits = df.filter(col('bot') == False)\n",
        "\n",
        "# Text Preprocessing Function (UDF)\n",
        "from pyspark.sql.functions import udf\n",
        "\n",
        "stop_words = ['і', 'в', 'на', 'до', 'з', 'що', 'не', 'це']\n",
        "\n",
        "def preprocess_text(text):\n",
        "    import re\n",
        "    text = text.lower()\n",
        "    words = re.findall(r'\\b\\w+\\b', text, re.UNICODE)\n",
        "    words = [word for word in words if word not in stop_words]\n",
        "    return words\n",
        "\n",
        "preprocess_text_udf = udf(preprocess_text, ArrayType(StringType()))\n",
        "\n",
        "# Preprocess comments and collect words for bots\n",
        "bot_comments = bot_edits.select('comment').na.drop()\n",
        "bot_comments = bot_comments.withColumn('words', preprocess_text_udf(col('comment')))\n",
        "bot_words = bot_comments.select(explode(col('words')).alias('word'))\n",
        "bot_word_counts = bot_words.groupBy('word').count().orderBy(col('count').desc())\n",
        "\n",
        "# Preprocess comments and collect words for humans\n",
        "human_comments = human_edits.select('comment').na.drop()\n",
        "human_comments = human_comments.withColumn('words', preprocess_text_udf(col('comment')))\n",
        "human_words = human_comments.select(explode(col('words')).alias('word'))\n",
        "human_word_counts = human_words.groupBy('word').count().orderBy(col('count').desc())\n",
        "\n",
        "print(\"Top 20 words in bot comments:\")\n",
        "bot_word_counts.show(20)\n",
        "\n",
        "# Display top 20 words for humans\n",
        "print(\"\\nTop 20 words in human comments:\")\n",
        "human_word_counts.show(20)\n"
      ],
      "metadata": {
        "colab": {
          "base_uri": "https://localhost:8080/",
          "height": 1000
        },
        "id": "5yHQq1IUWcvq",
        "outputId": "b0225eae-479c-491c-fc0f-773b3e626a83"
      },
      "execution_count": 5,
      "outputs": [
        {
          "output_type": "stream",
          "name": "stdout",
          "text": [
            "Top 20 words in bot comments:\n",
            "+--------------------+-----+\n",
            "|                word|count|\n",
            "+--------------------+-----+\n",
            "|                task|10243|\n",
            "|                  20|10152|\n",
            "|                user| 6163|\n",
            "|                 log| 5879|\n",
            "|           templates| 5711|\n",
            "|           wikipedia| 5527|\n",
            "|                with| 5257|\n",
            "|                 see| 5130|\n",
            "|                lang| 5093|\n",
            "|            replaced| 5072|\n",
            "|   2024_september_27| 5068|\n",
            "|                 tfd| 5068|\n",
            "|          _templates| 5068|\n",
            "|replace_and_delet...| 5068|\n",
            "|             monkbot| 5068|\n",
            "|               langx| 5068|\n",
            "|             replace| 5068|\n",
            "|templates_for_dis...| 5068|\n",
            "|                   1| 4321|\n",
            "|                 bot| 1510|\n",
            "+--------------------+-----+\n",
            "only showing top 20 rows\n",
            "\n",
            "\n",
            "Top 20 words in human comments:\n",
            "+-----------+-----+\n",
            "|       word|count|\n",
            "+-----------+-----+\n",
            "|         wp| 4473|\n",
            "|         to| 2781|\n",
            "|       talk| 2128|\n",
            "|      added| 1931|\n",
            "|        the| 1908|\n",
            "|         of| 1820|\n",
            "|         by| 1758|\n",
            "|        and| 1738|\n",
            "|   category| 1674|\n",
            "|    special| 1550|\n",
            "|       user| 1464|\n",
            "|         in| 1382|\n",
            "|  wikipedia| 1170|\n",
            "|          a| 1156|\n",
            "|      using| 1150|\n",
            "|   template| 1131|\n",
            "|        for| 1129|\n",
            "|description| 1064|\n",
            "|          2| 1009|\n",
            "|      short|  990|\n",
            "+-----------+-----+\n",
            "only showing top 20 rows\n",
            "\n"
          ]
        },
        {
          "output_type": "display_data",
          "data": {
            "text/plain": [
              "<Figure size 1200x600 with 1 Axes>"
            ],
            "image/png": "[encoded data removed]"
          },
          "metadata": {}
        }
      ]
    },
    {
      "cell_type": "code",
      "source": [
        "import math\n",
        "from bitarray import bitarray\n",
        "import mmh3\n",
        "\n",
        "class BloomFilter:\n",
        "    def __init__(self, expected_items, false_positive_rate):\n",
        "        \"\"\"\n",
        "        Initialize the Bloom filter with a given expected number of items and false positive rate.\n",
        "        \"\"\"\n",
        "        self.expected_items = expected_items\n",
        "        self.false_positive_rate = false_positive_rate\n",
        "        self.size = self._calculate_size()\n",
        "        self.hash_count = self._calculate_hash_count()\n",
        "        self.bit_array = bitarray(self.size)\n",
        "        self.bit_array.setall(0)\n",
        "\n",
        "    def _calculate_size(self):\n",
        "        \"\"\"\n",
        "        Calculate the size of the bit array (m) using the formula:\n",
        "        m = -(n * log(p)) / (log(2)^2)\n",
        "        \"\"\"\n",
        "        n = self.expected_items\n",
        "        p = self.false_positive_rate\n",
        "        return math.ceil(-(n * math.log(p)) / (math.log(2) ** 2))\n",
        "\n",
        "    def _calculate_hash_count(self):\n",
        "        \"\"\"\n",
        "        Calculate the optimal number of hash functions (k) using the formula:\n",
        "        k = (m / n) * log(2)\n",
        "        \"\"\"\n",
        "        m = self.size\n",
        "        n = self.expected_items\n",
        "        return math.ceil((m / n) * math.log(2))\n",
        "\n",
        "    def add(self, item):\n",
        "        \"\"\"\n",
        "        Add an item to the Bloom filter by hashing it with each hash function and setting the corresponding bits.\n",
        "        \"\"\"\n",
        "        for i in range(self.hash_count):\n",
        "            index = mmh3.hash(item, i) % self.size\n",
        "            self.bit_array[index] = True\n",
        "\n",
        "    def contains(self, item):\n",
        "        \"\"\"\n",
        "        Check if an item is in the Bloom filter.\n",
        "        Returns True if the item might be in the set, False if it is definitely not in the set.\n",
        "        \"\"\"\n",
        "        for i in range(self.hash_count):\n",
        "            index = mmh3.hash(item, i) % self.size\n",
        "            if not self.bit_array[index]:\n",
        "                return False\n",
        "        return True\n",
        "\n",
        "    def get_state(self):\n",
        "        \"\"\"\n",
        "        Serialize the Bloom filter's state for distribution or saving.\n",
        "        \"\"\"\n",
        "        return {\n",
        "            'size': self.size,\n",
        "            'hash_count': self.hash_count,\n",
        "            'bit_array': self.bit_array.tobytes()\n",
        "        }\n",
        "\n",
        "    @classmethod\n",
        "    def from_state(cls, state):\n",
        "        \"\"\"\n",
        "        Deserialize a Bloom filter from a serialized state.\n",
        "        \"\"\"\n",
        "        obj = cls(expected_items=1, false_positive_rate=0.1)  # Placeholder values\n",
        "        obj.size = state['size']\n",
        "        obj.hash_count = state['hash_count']\n",
        "        obj.bit_array = bitarray()\n",
        "        obj.bit_array.frombytes(state['bit_array'])\n",
        "        return obj\n"
      ],
      "metadata": {
        "id": "tLTjqJO9iq1C"
      },
      "execution_count": 103,
      "outputs": []
    },
    {
      "cell_type": "code",
      "source": [
        "bot_df = df.filter(col('bot') == True)\n",
        "\n",
        "# DataFrame with human edits\n",
        "human_df = df.filter(col('bot') == False)"
      ],
      "metadata": {
        "id": "2h2GvfvQz2wK"
      },
      "execution_count": null,
      "outputs": []
    },
    {
      "cell_type": "code",
      "source": [
        "unique_bot_usernames_df = bot_df.select('user').distinct().collect()"
      ],
      "metadata": {
        "id": "Pec0B0n6mqY9"
      },
      "execution_count": 87,
      "outputs": []
    },
    {
      "cell_type": "code",
      "source": [
        "len(df.select('user').distinct().collect())"
      ],
      "metadata": {
        "colab": {
          "base_uri": "https://localhost:8080/"
        },
        "id": "aaFSb2xCjVFd",
        "outputId": "b9ae4363-e3f6-4a14-f020-98d82d362868"
      },
      "execution_count": 96,
      "outputs": [
        {
          "output_type": "execute_result",
          "data": {
            "text/plain": [
              "10025"
            ]
          },
          "metadata": {},
          "execution_count": 96
        }
      ]
    },
    {
      "cell_type": "code",
      "source": [
        "# Count of unique bot usernames\n",
        "unique_bot_usernames_count = bot_df.select('user').distinct().count()\n",
        "\n",
        "print(f\"Number of unique bot usernames: {unique_bot_usernames_count}\")\n"
      ],
      "metadata": {
        "colab": {
          "base_uri": "https://localhost:8080/"
        },
        "id": "NLCRMk_Wj2UP",
        "outputId": "71744c05-db6e-4fda-f708-5e778e62873f"
      },
      "execution_count": 95,
      "outputs": [
        {
          "output_type": "stream",
          "name": "stdout",
          "text": [
            "Number of unique bot usernames: 86\n"
          ]
        }
      ]
    },
    {
      "cell_type": "code",
      "source": [
        "# Initialize Bloom Filter\n",
        "bf = BloomFilter(unique_bot_usernames_count, 0.1)\n",
        "\n",
        "for username in unique_bot_usernames_df:\n",
        "    bf.add(username['user'])"
      ],
      "metadata": {
        "id": "92HbSoQnsDDg"
      },
      "execution_count": 107,
      "outputs": []
    },
    {
      "cell_type": "code",
      "source": [
        "bf_state = bf.get_state()\n",
        "\n",
        "# Broadcast the internal state\n",
        "bf_state_broadcast = spark.sparkContext.broadcast(bf_state)\n",
        "\n",
        "# Define the UDF\n",
        "def is_bot():\n",
        "    bf_local = None\n",
        "    def inner(username):\n",
        "        nonlocal bf_local\n",
        "        if bf_local is None:\n",
        "            # Reconstruct the Bloom filter\n",
        "            bf_state = bf_state_broadcast.value\n",
        "            bf_local = BloomFilter.from_state(bf_state)\n",
        "        return bf_local.contains(username)\n",
        "    return inner\n",
        "\n",
        "is_bot_udf = udf(is_bot(), BooleanType())\n",
        "\n",
        "# Extract unique usernames with their 'bot' label\n",
        "unique_users_df = df.select('user', 'bot').distinct()\n",
        "\n",
        "# Apply the UDF to get predictions\n",
        "unique_users_df = unique_users_df.withColumn('predicted_bot', is_bot_udf(col('user')))\n",
        "\n",
        "# Evaluate predictions\n",
        "unique_users_df = unique_users_df.withColumn('correct_prediction', col('predicted_bot') == col('bot'))\n",
        "\n",
        "correct_predictions_count = unique_users_df.filter(col('correct_prediction') == True).count()\n",
        "total_users = unique_users_df.count()\n",
        "accuracy = correct_predictions_count / total_users\n",
        "\n",
        "print(f\"Number of correctly predicted users: {correct_predictions_count}\")\n",
        "print(f\"Total number of unique users: {total_users}\")\n",
        "print(f\"Accuracy: {accuracy * 100:.2f}%\")\n",
        "\n",
        "# Confusion matrix components\n",
        "true_positive = (col('predicted_bot') == True) & (col('bot') == True)\n",
        "false_positive = (col('predicted_bot') == True) & (col('bot') == False)\n",
        "true_negative = (col('predicted_bot') == False) & (col('bot') == False)\n",
        "false_negative = (col('predicted_bot') == False) & (col('bot') == True)\n",
        "\n",
        "tp = unique_users_df.filter(true_positive).count()\n",
        "fp = unique_users_df.filter(false_positive).count()\n",
        "tn = unique_users_df.filter(true_negative).count()\n",
        "fn = unique_users_df.filter(false_negative).count()\n",
        "\n",
        "print(f\"True Positives (Bots correctly identified): {tp}\")\n",
        "print(f\"False Positives (Humans incorrectly identified as bots): {fp}\")\n",
        "print(f\"True Negatives (Humans correctly identified): {tn}\")\n",
        "print(f\"False Negatives (Bots missed): {fn}\")\n",
        "\n",
        "# Calculate Precision and Recall\n",
        "precision = tp / (tp + fp) if (tp + fp) > 0 else 0\n",
        "recall = tp / (tp + fn) if (tp + fn) > 0 else 0\n",
        "\n",
        "print(f\"Precision: {precision * 100:.2f}%\")\n",
        "print(f\"Recall: {recall * 100:.2f}%\")"
      ],
      "metadata": {
        "colab": {
          "base_uri": "https://localhost:8080/"
        },
        "id": "ccyAKJkYrfmp",
        "outputId": "c0da1905-d33d-421d-e9f4-6fc61cbac84d"
      },
      "execution_count": 108,
      "outputs": [
        {
          "output_type": "stream",
          "name": "stdout",
          "text": [
            "Number of correctly predicted users: 8945\n",
            "Total number of unique users: 10033\n",
            "Accuracy: 89.16%\n",
            "True Positives (Bots correctly identified): 86\n",
            "False Positives (Humans incorrectly identified as bots): 1087\n",
            "True Negatives (Humans correctly identified): 8859\n",
            "False Negatives (Bots missed): 0\n",
            "Precision: 7.33%\n",
            "Recall: 100.00%\n"
          ]
        }
      ]
    },
    {
      "cell_type": "code",
      "source": [],
      "metadata": {
        "id": "cWvyVuzzXafq"
      },
      "execution_count": null,
      "outputs": []
    },
    {
      "cell_type": "markdown",
      "source": [
        "Possible Features?"
      ],
      "metadata": {
        "id": "NqRl5YuV_una"
      }
    },
    {
      "cell_type": "code",
      "source": [
        "from pyspark.sql.functions import log, log10, col\n",
        "df = df.withColumn(\"log_length\", log(col(\"length\")))\n"
      ],
      "metadata": {
        "id": "7PVsqttLGi6P"
      },
      "execution_count": null,
      "outputs": []
    },
    {
      "cell_type": "code",
      "source": [
        "from pyspark.sql.functions import length\n",
        "\n",
        "df = df.withColumn(\"comment_length\", length(col(\"comment\")))\n"
      ],
      "metadata": {
        "id": "kzod_PleSK3m"
      },
      "execution_count": null,
      "outputs": []
    },
    {
      "cell_type": "code",
      "source": [
        "from pyspark.sql.functions import col\n",
        "\n",
        "df = df.withColumn(\n",
        "    \"is_bot_comment\",\n",
        "    (\n",
        "        col(\"comment\").startswith(\"Tagging\") |\n",
        "        col(\"comment\").startswith(\"updating\") |\n",
        "        col(\"comment\").startswith(\"moving\") |\n",
        "        col(\"comment\").startswith(\"update\") |\n",
        "        col(\"comment\").startswith(\"next queue\") |\n",
        "        col(\"comment\").startswith(\"added\") |\n",
        "        col(\"comment\").startswith(\"copying\") |\n",
        "        col(\"comment\").startswith(\"[[User:\")\n",
        "    )\n",
        ")\n"
      ],
      "metadata": {
        "id": "q4NmgDOcSrwS"
      },
      "execution_count": null,
      "outputs": []
    }
  ]
}