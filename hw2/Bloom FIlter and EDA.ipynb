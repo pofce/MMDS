{
 "cells": [
  {
   "cell_type": "markdown",
   "metadata": {},
   "source": [
    "## Setup"
   ]
  },
  {
   "cell_type": "code",
   "metadata": {
    "colab": {
     "base_uri": "https://localhost:8080/"
    },
    "id": "cmnyXwp-PRNd",
    "outputId": "2e7be969-34de-45a1-9700-5bcb853c7853",
    "ExecuteTime": {
     "end_time": "2024-11-20T20:36:45.545621Z",
     "start_time": "2024-11-20T20:36:44.631314Z"
    }
   },
   "source": [
    "# install some packages\n",
    "!pip install sseclient mmh3 bitarray matplotlib seaborn nltk"
   ],
   "outputs": [
    {
     "name": "stdout",
     "output_type": "stream",
     "text": [
      "Requirement already satisfied: sseclient in /opt/anaconda3/envs/spark/lib/python3.8/site-packages (0.0.27)\r\n",
      "Requirement already satisfied: mmh3 in /opt/anaconda3/envs/spark/lib/python3.8/site-packages (5.0.1)\r\n",
      "Requirement already satisfied: bitarray in /opt/anaconda3/envs/spark/lib/python3.8/site-packages (3.0.0)\r\n",
      "Requirement already satisfied: matplotlib in /opt/anaconda3/envs/spark/lib/python3.8/site-packages (3.7.5)\r\n",
      "Requirement already satisfied: seaborn in /opt/anaconda3/envs/spark/lib/python3.8/site-packages (0.13.2)\r\n",
      "Requirement already satisfied: nltk in /opt/anaconda3/envs/spark/lib/python3.8/site-packages (3.9.1)\r\n",
      "Requirement already satisfied: requests>=2.9 in /opt/anaconda3/envs/spark/lib/python3.8/site-packages (from sseclient) (2.32.2)\r\n",
      "Requirement already satisfied: six in /opt/anaconda3/envs/spark/lib/python3.8/site-packages (from sseclient) (1.16.0)\r\n",
      "Requirement already satisfied: contourpy>=1.0.1 in /opt/anaconda3/envs/spark/lib/python3.8/site-packages (from matplotlib) (1.1.1)\r\n",
      "Requirement already satisfied: cycler>=0.10 in /opt/anaconda3/envs/spark/lib/python3.8/site-packages (from matplotlib) (0.12.1)\r\n",
      "Requirement already satisfied: fonttools>=4.22.0 in /opt/anaconda3/envs/spark/lib/python3.8/site-packages (from matplotlib) (4.55.0)\r\n",
      "Requirement already satisfied: kiwisolver>=1.0.1 in /opt/anaconda3/envs/spark/lib/python3.8/site-packages (from matplotlib) (1.4.7)\r\n",
      "Requirement already satisfied: numpy<2,>=1.20 in /opt/anaconda3/envs/spark/lib/python3.8/site-packages (from matplotlib) (1.24.3)\r\n",
      "Requirement already satisfied: packaging>=20.0 in /opt/anaconda3/envs/spark/lib/python3.8/site-packages (from matplotlib) (23.2)\r\n",
      "Requirement already satisfied: pillow>=6.2.0 in /opt/anaconda3/envs/spark/lib/python3.8/site-packages (from matplotlib) (10.4.0)\r\n",
      "Requirement already satisfied: pyparsing>=2.3.1 in /opt/anaconda3/envs/spark/lib/python3.8/site-packages (from matplotlib) (3.1.4)\r\n",
      "Requirement already satisfied: python-dateutil>=2.7 in /opt/anaconda3/envs/spark/lib/python3.8/site-packages (from matplotlib) (2.9.0.post0)\r\n",
      "Requirement already satisfied: importlib-resources>=3.2.0 in /opt/anaconda3/envs/spark/lib/python3.8/site-packages (from matplotlib) (6.1.1)\r\n",
      "Requirement already satisfied: pandas>=1.2 in /opt/anaconda3/envs/spark/lib/python3.8/site-packages (from seaborn) (2.0.3)\r\n",
      "Requirement already satisfied: click in /opt/anaconda3/envs/spark/lib/python3.8/site-packages (from nltk) (8.1.7)\r\n",
      "Requirement already satisfied: joblib in /opt/anaconda3/envs/spark/lib/python3.8/site-packages (from nltk) (1.4.2)\r\n",
      "Requirement already satisfied: regex>=2021.8.3 in /opt/anaconda3/envs/spark/lib/python3.8/site-packages (from nltk) (2024.11.6)\r\n",
      "Requirement already satisfied: tqdm in /opt/anaconda3/envs/spark/lib/python3.8/site-packages (from nltk) (4.67.0)\r\n",
      "Requirement already satisfied: zipp>=3.1.0 in /opt/anaconda3/envs/spark/lib/python3.8/site-packages (from importlib-resources>=3.2.0->matplotlib) (3.17.0)\r\n",
      "Requirement already satisfied: pytz>=2020.1 in /opt/anaconda3/envs/spark/lib/python3.8/site-packages (from pandas>=1.2->seaborn) (2024.1)\r\n",
      "Requirement already satisfied: tzdata>=2022.1 in /opt/anaconda3/envs/spark/lib/python3.8/site-packages (from pandas>=1.2->seaborn) (2023.3)\r\n",
      "Requirement already satisfied: charset-normalizer<4,>=2 in /opt/anaconda3/envs/spark/lib/python3.8/site-packages (from requests>=2.9->sseclient) (2.0.4)\r\n",
      "Requirement already satisfied: idna<4,>=2.5 in /opt/anaconda3/envs/spark/lib/python3.8/site-packages (from requests>=2.9->sseclient) (3.7)\r\n",
      "Requirement already satisfied: urllib3<3,>=1.21.1 in /opt/anaconda3/envs/spark/lib/python3.8/site-packages (from requests>=2.9->sseclient) (2.2.2)\r\n",
      "Requirement already satisfied: certifi>=2017.4.17 in /opt/anaconda3/envs/spark/lib/python3.8/site-packages (from requests>=2.9->sseclient) (2024.6.2)\r\n"
     ]
    }
   ],
   "execution_count": 1
  },
  {
   "cell_type": "code",
   "metadata": {
    "id": "QkpomjQphvCG",
    "ExecuteTime": {
     "end_time": "2024-11-20T20:36:45.630926Z",
     "start_time": "2024-11-20T20:36:45.547136Z"
    }
   },
   "source": [
    "# import required libraries\n",
    "import re\n",
    "\n",
    "import matplotlib.pyplot as plt\n",
    "import seaborn as sns\n",
    "from bloom_filter import BloomFilter\n",
    "from pyspark.sql import SparkSession\n",
    "from pyspark.sql.functions import (\n",
    "    abs,\n",
    "    avg,\n",
    "    col,\n",
    "    count,\n",
    "    explode,\n",
    "    hour,\n",
    "    length,\n",
    "    to_date,\n",
    "    to_timestamp,\n",
    "    udf,\n",
    ")\n",
    "from pyspark.sql.types import (\n",
    "    ArrayType,\n",
    "    BooleanType,\n",
    "    IntegerType,\n",
    "    LongType,\n",
    "    StringType,\n",
    "    StructField,\n",
    "    StructType,\n",
    ")"
   ],
   "outputs": [],
   "execution_count": 2
  },
  {
   "cell_type": "code",
   "metadata": {
    "ExecuteTime": {
     "end_time": "2024-11-20T20:36:46.180290Z",
     "start_time": "2024-11-20T20:36:45.632354Z"
    }
   },
   "source": [
    "# get UA/EN stop words\n",
    "import nltk\n",
    "from nltk.corpus import stopwords as nltk_stopwords\n",
    "\n",
    "nltk.download(\"stopwords\")\n",
    "stop_words = list(nltk_stopwords.words(\"english\"))"
   ],
   "outputs": [
    {
     "name": "stderr",
     "output_type": "stream",
     "text": [
      "[nltk_data] Downloading package stopwords to\n",
      "[nltk_data]     /Users/vladyslav_radchenko/nltk_data...\n",
      "[nltk_data]   Package stopwords is already up-to-date!\n"
     ]
    }
   ],
   "execution_count": 3
  },
  {
   "cell_type": "markdown",
   "metadata": {},
   "source": [
    "## Import sampled data using Spark"
   ]
  },
  {
   "cell_type": "code",
   "metadata": {
    "ExecuteTime": {
     "end_time": "2024-11-20T20:36:51.283271Z",
     "start_time": "2024-11-20T20:36:46.181092Z"
    }
   },
   "source": [
    "spark = SparkSession.builder.appName(\"WikipediaBotFilterEDA\").getOrCreate()\n",
    "spark.sparkContext.setLogLevel(\"ERROR\")"
   ],
   "outputs": [
    {
     "name": "stderr",
     "output_type": "stream",
     "text": [
      "24/11/20 22:36:48 WARN Utils: Your hostname, Vladyslavs-MacBook-Pro.local resolves to a loopback address: 127.0.0.1; using 192.168.1.73 instead (on interface en0)\n",
      "24/11/20 22:36:48 WARN Utils: Set SPARK_LOCAL_IP if you need to bind to another address\n",
      "Setting default log level to \"WARN\".\n",
      "To adjust logging level use sc.setLogLevel(newLevel). For SparkR, use setLogLevel(newLevel).\n",
      "24/11/20 22:36:49 WARN NativeCodeLoader: Unable to load native-hadoop library for your platform... using builtin-java classes where applicable\n"
     ]
    }
   ],
   "execution_count": 4
  },
  {
   "cell_type": "code",
   "metadata": {
    "colab": {
     "base_uri": "https://localhost:8080/"
    },
    "id": "liiRpRwSY50e",
    "outputId": "25c3dac1-7783-4578-d05d-03146f52479a",
    "ExecuteTime": {
     "end_time": "2024-11-20T20:37:00.975515Z",
     "start_time": "2024-11-20T20:36:51.284292Z"
    }
   },
   "source": [
    "# define data schema\n",
    "schema = StructType(\n",
    "    [\n",
    "        StructField(\"id\", LongType(), True),\n",
    "        StructField(\"title\", StringType(), True),\n",
    "        StructField(\"user\", StringType(), True),\n",
    "        StructField(\"bot\", BooleanType(), True),\n",
    "        StructField(\"length\", IntegerType(), True),\n",
    "        StructField(\"wiki\", StringType(), True),\n",
    "        StructField(\"timestamp\", StringType(), True),\n",
    "        StructField(\"minor\", BooleanType(), True),\n",
    "        StructField(\"comment\", StringType(), True),\n",
    "    ]\n",
    ")\n",
    "\n",
    "# read sampled data from store\n",
    "df = spark.read.csv(\n",
    "    path=\"sample_data/40k_sample/*.csv\",\n",
    "    header=False,\n",
    "    schema=schema,\n",
    ")\n",
    "\n",
    "# print sample\n",
    "df.printSchema()\n",
    "df.show(5)"
   ],
   "outputs": [
    {
     "name": "stderr",
     "output_type": "stream",
     "text": [
      "                                                                                \r"
     ]
    },
    {
     "name": "stdout",
     "output_type": "stream",
     "text": [
      "root\n",
      " |-- id: long (nullable = true)\n",
      " |-- title: string (nullable = true)\n",
      " |-- user: string (nullable = true)\n",
      " |-- bot: boolean (nullable = true)\n",
      " |-- length: integer (nullable = true)\n",
      " |-- wiki: string (nullable = true)\n",
      " |-- timestamp: string (nullable = true)\n",
      " |-- minor: boolean (nullable = true)\n",
      " |-- comment: string (nullable = true)\n",
      "\n",
      "+----------+--------------------+--------------+-----+------+------+-------------------+-----+--------------------+\n",
      "|        id|               title|          user|  bot|length|  wiki|          timestamp|minor|             comment|\n",
      "+----------+--------------------+--------------+-----+------+------+-------------------+-----+--------------------+\n",
      "|1833392203|          Kastolatsi|       Monkbot| true|     1|enwiki|2024-10-27 02:55:35| true|[[User:Monkbot/ta...|\n",
      "|1833392304|1981 Golbaf earth...|Dawnseeker2000|false|   -27|enwiki|2024-10-27 02:55:48| true|[[WP:AWB/T|Typo f...|\n",
      "|1833392603|     Lebanese Arabic| 70.83.137.110|false|    -8|enwiki|2024-10-27 02:56:21|false|                NULL|\n",
      "|1833392715|The Galway Races ...|JJMC89 bot III| true|    12|enwiki|2024-10-27 02:56:36| true|Moving [[:Categor...|\n",
      "|1833392803|        Khmer people|  TansoShoshen|false|   -11|enwiki|2024-10-27 02:56:39| true|Again this photo ...|\n",
      "+----------+--------------------+--------------+-----+------+------+-------------------+-----+--------------------+\n",
      "only showing top 5 rows\n",
      "\n"
     ]
    }
   ],
   "execution_count": 5
  },
  {
   "cell_type": "markdown",
   "metadata": {},
   "source": [
    "## EDA"
   ]
  },
  {
   "cell_type": "markdown",
   "metadata": {},
   "source": [
    "According to the task, we imagine that we need to create system to filter out bots. So, we don't have \"bot\" column.\n",
    "\n",
    "Now, let's suppose that we have manually labeled our sampled dataset (to make such system) and now have ground truth \"bot\" column.\n",
    "\n",
    "Also, we don't have to use user column for prediction (according to the constraints)."
   ]
  },
  {
   "cell_type": "code",
   "metadata": {
    "ExecuteTime": {
     "end_time": "2024-11-20T20:37:01.280512Z",
     "start_time": "2024-11-20T20:37:00.976241Z"
    }
   },
   "source": [
    "# convert timestamp & date to timestamp & date type\n",
    "df = df.withColumn(\"timestamp\", to_timestamp(\"timestamp\"))\n",
    "df = df.withColumn(\"timestamp\", (col(\"timestamp\")).cast(\"timestamp\"))\n",
    "df = df.withColumn(\"date\", to_date(\"timestamp\"))\n",
    "# fill missing values\n",
    "df = df.fillna({\"length\": 0, \"bot\": False, \"comment\": \"\"})\n",
    "# adjust lenght columns\n",
    "df = df.withColumn(\"length\", abs(col(\"length\")))\n",
    "# cast fields\n",
    "df = df.withColumn(\"comment\", col(\"comment\").cast(\"string\"))\n",
    "df = df.withColumn(\"user\", col(\"user\").cast(\"string\"))"
   ],
   "outputs": [],
   "execution_count": 6
  },
  {
   "cell_type": "code",
   "metadata": {
    "id": "j-oHOZDqbXW0",
    "ExecuteTime": {
     "end_time": "2024-11-20T20:37:01.320599Z",
     "start_time": "2024-11-20T20:37:01.281221Z"
    }
   },
   "source": [
    "# define separate variables for humans & bots\n",
    "bot_df = df.filter(col(\"bot\") == True)\n",
    "human_df = df.filter(col(\"bot\") == False)"
   ],
   "outputs": [],
   "execution_count": 7
  },
  {
   "cell_type": "code",
   "metadata": {
    "colab": {
     "base_uri": "https://localhost:8080/",
     "height": 564
    },
    "id": "n7KAiAB64-cY",
    "outputId": "a3ec65cb-0f67-4e54-ec30-e6321ab4df3e",
    "ExecuteTime": {
     "end_time": "2024-11-20T20:37:04.625899Z",
     "start_time": "2024-11-20T20:37:01.321403Z"
    }
   },
   "source": [
    "# average edit lenght\n",
    "avg_length_df = df.groupBy(\"bot\").agg(avg(\"length\").alias(\"avg_length\"))\n",
    "avg_length_pandas_df = avg_length_df.toPandas()\n",
    "\n",
    "plt.figure(figsize=(10, 6))\n",
    "sns.barplot(data=avg_length_pandas_df, x=\"bot\", y=\"avg_length\")\n",
    "plt.title(\"Average Edit Length (Absolute Values) by Bot Status\")\n",
    "plt.xlabel(\"Bot Status\")\n",
    "plt.ylabel(\"Average Edit Length\")\n",
    "plt.show()"
   ],
   "outputs": [
    {
     "name": "stderr",
     "output_type": "stream",
     "text": [
      "                                                                                \r"
     ]
    },
    {
     "data": {
      "text/plain": [
       "<Figure size 1000x600 with 1 Axes>"
      ],
      "image/png": "[encoded data removed]"
     },
     "metadata": {},
     "output_type": "display_data"
    }
   ],
   "execution_count": 8
  },
  {
   "cell_type": "code",
   "metadata": {
    "colab": {
     "base_uri": "https://localhost:8080/",
     "height": 564
    },
    "id": "ceafO1HR9x37",
    "outputId": "fb0cb163-aead-4425-957c-2ef94f7136ef",
    "ExecuteTime": {
     "end_time": "2024-11-20T20:37:06.022799Z",
     "start_time": "2024-11-20T20:37:04.633110Z"
    }
   },
   "source": [
    "# count of minor edits for each bot status\n",
    "minor_counts_df = df.groupBy(\"bot\", \"minor\").agg(count(\"*\").alias(\"count\"))\n",
    "minor_counts_pandas_df = minor_counts_df.toPandas()\n",
    "minor_counts_pandas_df[\"bot\"] = minor_counts_pandas_df[\"bot\"].astype(str)\n",
    "minor_counts_pandas_df[\"minor\"] = minor_counts_pandas_df[\"minor\"].astype(str)\n",
    "\n",
    "plt.figure(figsize=(10, 6))\n",
    "sns.barplot(data=minor_counts_pandas_df, x=\"bot\", y=\"count\", hue=\"minor\")\n",
    "plt.title(\"Count of Minor Edits by Bot Status\")\n",
    "plt.xlabel(\"Bot Status\")\n",
    "plt.ylabel(\"Count of Edits\")\n",
    "plt.legend(title=\"Minor Edit\")\n",
    "plt.show()"
   ],
   "outputs": [
    {
     "data": {
      "text/plain": [
       "<Figure size 1000x600 with 1 Axes>"
      ],
      "image/png": "[encoded data removed]"
     },
     "metadata": {},
     "output_type": "display_data"
    }
   ],
   "execution_count": 9
  },
  {
   "cell_type": "code",
   "metadata": {
    "colab": {
     "base_uri": "https://localhost:8080/",
     "height": 564
    },
    "id": "XWHY6NR79bKs",
    "outputId": "cd9ccd33-9b96-4a0d-e147-f0fedf994b0c",
    "ExecuteTime": {
     "end_time": "2024-11-20T20:37:10.483385Z",
     "start_time": "2024-11-20T20:37:06.023599Z"
    }
   },
   "source": [
    "# average number of edits per user per day by bot type\n",
    "user_date_edits = df.groupBy(\"user\", \"date\").agg(count(\"*\").alias(\"user_edits\"))\n",
    "df_edits = df.join(user_date_edits, on=[\"user\", \"date\"])\n",
    "avg_edits_by_bot = df_edits.groupBy(\"bot\").agg(\n",
    "    avg(\"user_edits\").alias(\"avg_user_edits\")\n",
    ")\n",
    "avg_edits_by_bot_pandas = avg_edits_by_bot.toPandas()\n",
    "\n",
    "plt.figure(figsize=(10, 6))\n",
    "sns.barplot(data=avg_edits_by_bot_pandas, x=\"bot\", y=\"avg_user_edits\")\n",
    "plt.title(\"Average Number of Edits per User per Day by Bot Type\")\n",
    "plt.xlabel(\"Bot Status\")\n",
    "plt.ylabel(\"Average Number of Edits\")\n",
    "plt.show()"
   ],
   "outputs": [
    {
     "name": "stderr",
     "output_type": "stream",
     "text": [
      "                                                                                \r"
     ]
    },
    {
     "data": {
      "text/plain": [
       "<Figure size 1000x600 with 1 Axes>"
      ],
      "image/png": "[encoded data removed]"
     },
     "metadata": {},
     "output_type": "display_data"
    }
   ],
   "execution_count": 10
  },
  {
   "cell_type": "code",
   "metadata": {
    "ExecuteTime": {
     "end_time": "2024-11-20T20:37:11.577495Z",
     "start_time": "2024-11-20T20:37:10.484299Z"
    }
   },
   "source": [
    "df = df.withColumn(\"comment_length\", length(col(\"comment\")))\n",
    "\n",
    "# Add comment_length to the numerical features list\n",
    "numerical_features = [\"length\", \"minor\", \"bot\", \"comment_length\"]\n",
    "\n",
    "# Include derived features like the hour from timestamp\n",
    "df = df.withColumn(\"hour\", hour(\"timestamp\"))\n",
    "numerical_features.append(\"hour\")\n",
    "\n",
    "# Extract numerical features and convert to Pandas\n",
    "numerical_df = df.select(numerical_features).toPandas()\n",
    "\n",
    "# Plot correlation heatmap with additional features\n",
    "plt.figure(figsize=(10, 8))\n",
    "sns.heatmap(numerical_df.corr(), annot=True, cmap=\"coolwarm\")\n",
    "plt.title(\"Correlation Heatmap with Additional Features, including Comment Length\")\n",
    "plt.show()"
   ],
   "outputs": [
    {
     "data": {
      "text/plain": [
       "<Figure size 1000x800 with 2 Axes>"
      ],
      "image/png": "[encoded data removed]"
     },
     "metadata": {},
     "output_type": "display_data"
    }
   ],
   "execution_count": 11
  },
  {
   "cell_type": "markdown",
   "metadata": {},
   "source": [
    "Let's work with the \"comments\" column as it can show us how to find out bots."
   ]
  },
  {
   "cell_type": "code",
   "metadata": {
    "ExecuteTime": {
     "end_time": "2024-11-20T20:37:12.050932Z",
     "start_time": "2024-11-20T20:37:11.580168Z"
    }
   },
   "source": [
    "sampled_comments = (\n",
    "    df.filter(df[\"bot\"] == True).select(\"comment\").sample(fraction=0.1).limit(20)\n",
    ")\n",
    "for row in sampled_comments.collect():\n",
    "    print(row[\"comment\"])"
   ],
   "outputs": [
    {
     "name": "stdout",
     "output_type": "stream",
     "text": [
      "Moving [[:Category:Songwriter unknown]] to [[:Category:Songs with unknown songwriters]] per [[Wikipedia:Categories for discussion/Log/2024 October 19#Category:Songwriter unknown]]\n",
      "Moving [[:Category:Songwriter unknown]] to [[:Category:Songs with unknown songwriters]] per [[Wikipedia:Categories for discussion/Log/2024 October 19#Category:Songwriter unknown]]\n",
      "[[User:Monkbot/task 20|Task 20]]: replace {lang-??} templates with {langx|??} [[Wikipedia:Templates_for_discussion/Log/2024_September_27#Replace_and_delete_lang-??_templates|‹See Tfd›]] (Replaced 1);\n",
      "Moving [[:Category:Songwriter unknown]] to [[:Category:Songs with unknown songwriters]] per [[Wikipedia:Categories for discussion/Log/2024 October 19#Category:Songwriter unknown]]\n",
      "[[User:Monkbot/task 20|Task 20]]: replace {lang-??} templates with {langx|??} [[Wikipedia:Templates_for_discussion/Log/2024_September_27#Replace_and_delete_lang-??_templates|‹See Tfd›]] (Replaced 2);\n",
      "[[User:Monkbot/task 20|Task 20]]: replace {lang-??} templates with {langx|??} [[Wikipedia:Templates_for_discussion/Log/2024_September_27#Replace_and_delete_lang-??_templates|‹See Tfd›]] (Replaced 1);\n",
      "[[User:Monkbot/task 20|Task 20]]: replace {lang-??} templates with {langx|??} [[Wikipedia:Templates_for_discussion/Log/2024_September_27#Replace_and_delete_lang-??_templates|‹See Tfd›]] (Replaced 1);\n",
      "Moving [[:Category:Songwriter unknown]] to [[:Category:Songs with unknown songwriters]] per [[Wikipedia:Categories for discussion/Log/2024 October 19#Category:Songwriter unknown]]\n",
      "Updating page triage stats: 10607 articles unreviewed ([[Wikipedia:Bots/Requests for approval/DatBot 11|BOT]] - [[User:DatBot/run/task11|disable]])\n",
      "[[User:Monkbot/task 20|Task 20]]: replace {lang-??} templates with {langx|??} [[Wikipedia:Templates_for_discussion/Log/2024_September_27#Replace_and_delete_lang-??_templates|‹See Tfd›]] (Replaced 2);\n",
      "Adding/updating {{OnThisDay}} for 2024-10-26.  Errors? [[User:AnomieBOT/shutoff/OnThisDayTagger]]\n",
      "Update logs for past 7 days\n",
      "Moving [[:Category:Songwriter unknown]] to [[:Category:Songs with unknown songwriters]] per [[Wikipedia:Categories for discussion/Log/2024 October 19#Category:Songwriter unknown]]\n",
      "Copying assessment table to wiki.\n",
      "Update logs for past 7 days\n",
      "Update logs for past 7 days\n",
      "[[User:Monkbot/task 20|Task 20]]: replace {lang-??} templates with {langx|??} [[Wikipedia:Templates_for_discussion/Log/2024_September_27#Replace_and_delete_lang-??_templates|‹See Tfd›]] (Replaced 1);\n",
      "(BOT) Updating discussions: Oct 14 16 19. Errors? [[User:AnomieBOT/shutoff/DRVClerk]]\n",
      "updating recognized content\n",
      "Giving DYK credit for [[Nan Nan Resources]] on behalf of [[User:Launchballer|Launchballer]]\n"
     ]
    }
   ],
   "execution_count": 12
  },
  {
   "cell_type": "code",
   "metadata": {
    "ExecuteTime": {
     "end_time": "2024-11-20T20:37:12.218902Z",
     "start_time": "2024-11-20T20:37:12.051699Z"
    }
   },
   "source": [
    "sampled_comments_human = (\n",
    "    df.filter(df[\"bot\"] == False).select(\"comment\").sample(fraction=0.1).limit(20)\n",
    ")\n",
    "for row in sampled_comments_human.collect():\n",
    "    print(row[\"comment\"])"
   ],
   "outputs": [
    {
     "name": "stdout",
     "output_type": "stream",
     "text": [
      "added [[Category:1920s in Ohio]] using [[WP:HC|HotCat]]\n",
      "+ 4 categories using [[WP:HC|HotCat]]\n",
      "/* Demographics */ ce\n",
      "image restored locally\n",
      "\n",
      "/* voorts */ done with [[Néo-Phare]]\n",
      "/* Welsh name */ new section\n",
      "/* Call Your Shot Gauntlet entrances and eliminations */\n",
      "Reverted 1 edit by [[Special:Contributions/2A00:23C4:618:9E01:6C33:D904:A2ED:76D2|2A00:23C4:618:9E01:6C33:D904:A2ED:76D2]] ([[User talk:2A00:23C4:618:9E01:6C33:D904:A2ED:76D2|talk]]) to last revision by U-Mos\n",
      "Adding local [[Wikipedia:Short description|short description]]: \"American casting director and screenwriter\" overriding Wikidata description \"American casting director\"\n",
      "Submitting using [[WP:AFCSW|AfC-submit-wizard]]\n",
      "\n",
      "Fixed grammar\n",
      "\n",
      "[[Wikipedia talk:Criteria for speedy deletion/Archive 9#IP talk pages|blank ancient IP talk page messages]]\n",
      "[[Wikipedia talk:Criteria for speedy deletion/Archive 9#IP talk pages|blank ancient IP talk page messages]]\n",
      "Kurzbeschreibung aktualisiert\n",
      "\n",
      "/* Box office */\n",
      "/* Origins in Mareva */ date\n"
     ]
    }
   ],
   "execution_count": 13
  },
  {
   "cell_type": "code",
   "metadata": {
    "colab": {
     "base_uri": "https://localhost:8080/",
     "height": 1000
    },
    "id": "5yHQq1IUWcvq",
    "outputId": "b0225eae-479c-491c-fc0f-773b3e626a83",
    "ExecuteTime": {
     "end_time": "2024-11-20T20:37:18.238699Z",
     "start_time": "2024-11-20T20:37:12.219986Z"
    }
   },
   "source": [
    "def preprocess_text(text):\n",
    "    text = text.lower()\n",
    "    words = re.findall(r\"\\b\\w+\\b\", text, re.UNICODE)\n",
    "    words = [word for word in words if word not in stop_words]\n",
    "    return words\n",
    "\n",
    "\n",
    "preprocess_text_udf = udf(preprocess_text, ArrayType(StringType()))\n",
    "\n",
    "bot_comments = bot_df.select(\"comment\").na.drop()\n",
    "bot_comments = bot_comments.withColumn(\"words\", preprocess_text_udf(col(\"comment\")))\n",
    "bot_words = bot_comments.select(explode(col(\"words\")).alias(\"word\"))\n",
    "bot_word_counts = bot_words.groupBy(\"word\").count().orderBy(col(\"count\").desc())\n",
    "\n",
    "human_comments = human_df.select(\"comment\").na.drop()\n",
    "human_comments = human_comments.withColumn(\"words\", preprocess_text_udf(col(\"comment\")))\n",
    "human_words = human_comments.select(explode(col(\"words\")).alias(\"word\"))\n",
    "human_word_counts = human_words.groupBy(\"word\").count().orderBy(col(\"count\").desc())\n",
    "\n",
    "print(\"Top 20 words in bot comments:\")\n",
    "bot_word_counts.show(20)\n",
    "\n",
    "# Display top 20 words for humans\n",
    "print(\"\\nTop 20 words in human comments:\")\n",
    "human_word_counts.show(20)"
   ],
   "outputs": [
    {
     "name": "stdout",
     "output_type": "stream",
     "text": [
      "Top 20 words in bot comments:\n"
     ]
    },
    {
     "name": "stderr",
     "output_type": "stream",
     "text": [
      "                                                                                \r"
     ]
    },
    {
     "name": "stdout",
     "output_type": "stream",
     "text": [
      "+--------------------+-----+\n",
      "|                word|count|\n",
      "+--------------------+-----+\n",
      "|                task|10257|\n",
      "|                  20|10166|\n",
      "|                user| 6170|\n",
      "|                 log| 5886|\n",
      "|           templates| 5718|\n",
      "|           wikipedia| 5534|\n",
      "|                 see| 5137|\n",
      "|                lang| 5100|\n",
      "|            replaced| 5079|\n",
      "|                 tfd| 5075|\n",
      "|          _templates| 5075|\n",
      "|replace_and_delet...| 5075|\n",
      "|   2024_september_27| 5075|\n",
      "|             monkbot| 5075|\n",
      "|               langx| 5075|\n",
      "|             replace| 5075|\n",
      "|templates_for_dis...| 5075|\n",
      "|                   1| 4327|\n",
      "|                 bot| 1510|\n",
      "|                   2| 1188|\n",
      "+--------------------+-----+\n",
      "only showing top 20 rows\n",
      "\n",
      "\n",
      "Top 20 words in human comments:\n"
     ]
    },
    {
     "name": "stderr",
     "output_type": "stream",
     "text": [
      "[Stage 21:>                                                       (0 + 10) / 10]\r"
     ]
    },
    {
     "name": "stdout",
     "output_type": "stream",
     "text": [
      "+-------------+-----+\n",
      "|         word|count|\n",
      "+-------------+-----+\n",
      "|           wp| 4477|\n",
      "|         talk| 2128|\n",
      "|        added| 1933|\n",
      "|     category| 1676|\n",
      "|      special| 1550|\n",
      "|         user| 1464|\n",
      "|    wikipedia| 1174|\n",
      "|        using| 1152|\n",
      "|     template| 1134|\n",
      "|  description| 1064|\n",
      "|            2| 1011|\n",
      "|        short|  990|\n",
      "|contributions|  919|\n",
      "|           hc|  792|\n",
      "|            1|  724|\n",
      "|         link|  701|\n",
      "|      article|  660|\n",
      "|         2024|  660|\n",
      "|         edit|  657|\n",
      "|       hotcat|  652|\n",
      "+-------------+-----+\n",
      "only showing top 20 rows\n",
      "\n"
     ]
    },
    {
     "name": "stderr",
     "output_type": "stream",
     "text": [
      "                                                                                \r"
     ]
    }
   ],
   "execution_count": 14
  },
  {
   "cell_type": "markdown",
   "metadata": {},
   "source": [
    "## Modelling"
   ]
  },
  {
   "cell_type": "code",
   "metadata": {
    "ExecuteTime": {
     "end_time": "2024-11-20T20:42:25.339722Z",
     "start_time": "2024-11-20T20:37:18.239835Z"
    }
   },
   "source": [
    "from pyspark.ml import Pipeline\n",
    "from pyspark.ml.classification import LogisticRegression\n",
    "from pyspark.ml.evaluation import MulticlassClassificationEvaluator\n",
    "from pyspark.ml.feature import (\n",
    "    IDF,\n",
    "    HashingTF,\n",
    "    StopWordsRemover,\n",
    "    Tokenizer,\n",
    "    VectorAssembler,\n",
    ")\n",
    "from pyspark.ml.tuning import CrossValidator, ParamGridBuilder\n",
    "from pyspark.sql.functions import col, length, when\n",
    "\n",
    "# drop columns that could be created during EDA\n",
    "df = df.drop(\"words\", \"filtered_words\", \"raw_features\", \"features\")\n",
    "\n",
    "\n",
    "# engineer feature from EDA insights\n",
    "df = df.withColumn(\n",
    "    \"comment_length\", when(col(\"comment\").isNull(), 0).otherwise(length(col(\"comment\")))\n",
    ")\n",
    "df = df.withColumn(\"label\", col(\"bot\").cast(\"double\"))\n",
    "df = df.fillna(\n",
    "    {\"length\": 0, \"comment_length\": 0, \"minor\": False, \"bot\": False, \"comment\": \"\"}\n",
    ")\n",
    "\n",
    "\n",
    "# split data for training/testing\n",
    "train_data, test_data = df.randomSplit([0.7, 0.3], seed=42)\n",
    "\n",
    "\n",
    "# collect pipeline parts\n",
    "tokenizer = Tokenizer(inputCol=\"comment\", outputCol=\"tokenized_words\")\n",
    "remover = StopWordsRemover(\n",
    "    inputCol=\"tokenized_words\",\n",
    "    outputCol=\"filtered_words\",\n",
    "    stopWords=stop_words,\n",
    "    locale=\"en_US\",\n",
    ")\n",
    "hashing_tf = HashingTF(\n",
    "    inputCol=\"filtered_words\", outputCol=\"raw_features\", numFeatures=600\n",
    ")\n",
    "idf = IDF(inputCol=\"raw_features\", outputCol=\"text_features\")\n",
    "assembler = VectorAssembler(\n",
    "    inputCols=[\"text_features\", \"minor\", \"comment_length\"], outputCol=\"features\"\n",
    ")\n",
    "lr = LogisticRegression(featuresCol=\"features\", labelCol=\"label\")\n",
    "\n",
    "\n",
    "# create pipeline\n",
    "pipeline = Pipeline(stages=[tokenizer, remover, hashing_tf, idf, assembler, lr])\n",
    "\n",
    "\n",
    "# configure grid search\n",
    "param_grid = (\n",
    "    ParamGridBuilder()\n",
    "    .addGrid(hashing_tf.numFeatures, [300, 500, 600, 1000])\n",
    "    .addGrid(lr.regParam, [0.01, 0.1, 1.0])\n",
    "    .addGrid(lr.elasticNetParam, [0.0, 0.5, 1.0])\n",
    "    .build()\n",
    ")\n",
    "\n",
    "\n",
    "# configure evaluator\n",
    "evaluator = MulticlassClassificationEvaluator(\n",
    "    labelCol=\"label\", predictionCol=\"prediction\", metricName=\"f1\"\n",
    ")\n",
    "\n",
    "\n",
    "# configure cross-validation\n",
    "crossval = CrossValidator(\n",
    "    estimator=pipeline,\n",
    "    estimatorParamMaps=param_grid,\n",
    "    evaluator=evaluator,\n",
    "    numFolds=3,\n",
    "    parallelism=2,\n",
    ")\n",
    "\n",
    "\n",
    "# run cross validation with grid search\n",
    "cv_model = crossval.fit(train_data)\n",
    "\n",
    "\n",
    "# save best model\n",
    "model_save_path = \"model/\"\n",
    "best_model = cv_model.bestModel\n",
    "best_model.write().overwrite().save(model_save_path)\n",
    "\n",
    "# print model params\n",
    "print(\"\\nBest Model Parameters:\")\n",
    "print(f\"HashingTF numFeatures: {best_model.stages[2]._java_obj.getNumFeatures()}\")\n",
    "print(f\"LogisticRegression regParam: {best_model.stages[5]._java_obj.getRegParam()}\")\n",
    "print(\n",
    "    f\"LogisticRegression elasticNetParam: {best_model.stages[5]._java_obj.getElasticNetParam()}\"\n",
    ")\n",
    "\n",
    "\n",
    "# predict on test data\n",
    "predictions = best_model.transform(test_data)\n",
    "\n",
    "\n",
    "# evaluate best model\n",
    "recall = MulticlassClassificationEvaluator(\n",
    "    labelCol=\"label\", predictionCol=\"prediction\", metricName=\"weightedRecall\"\n",
    ").evaluate(predictions)\n",
    "\n",
    "precision = MulticlassClassificationEvaluator(\n",
    "    labelCol=\"label\", predictionCol=\"prediction\", metricName=\"weightedPrecision\"\n",
    ").evaluate(predictions)\n",
    "\n",
    "f1 = evaluator.evaluate(predictions)\n",
    "\n",
    "\n",
    "# print evaluation results\n",
    "print(f\"Bot Prediction Recall: {recall:.2f}\")\n",
    "print(f\"Bot Prediction Precision: {precision:.2f}\")\n",
    "print(f\"Bot Prediction F1-score: {f1:.2f}\")\n",
    "\n",
    "predictions.groupBy(\"label\", \"prediction\").count().show()"
   ],
   "outputs": [
    {
     "name": "stderr",
     "output_type": "stream",
     "text": [
      "                                                                                \r"
     ]
    },
    {
     "name": "stdout",
     "output_type": "stream",
     "text": [
      "\n",
      "Best Model Parameters:\n",
      "HashingTF numFeatures: 1000\n",
      "LogisticRegression regParam: 0.01\n",
      "LogisticRegression elasticNetParam: 0.0\n"
     ]
    },
    {
     "name": "stderr",
     "output_type": "stream",
     "text": [
      "                                                                                \r"
     ]
    },
    {
     "name": "stdout",
     "output_type": "stream",
     "text": [
      "Bot Prediction Recall: 0.99\n",
      "Bot Prediction Precision: 0.99\n",
      "Bot Prediction F1-score: 0.99\n"
     ]
    },
    {
     "name": "stderr",
     "output_type": "stream",
     "text": [
      "[Stage 10739:>                                                    (0 + 10) / 10]\r"
     ]
    },
    {
     "name": "stdout",
     "output_type": "stream",
     "text": [
      "+-----+----------+-----+\n",
      "|label|prediction|count|\n",
      "+-----+----------+-----+\n",
      "|  1.0|       1.0| 2491|\n",
      "|  0.0|       1.0|   35|\n",
      "|  1.0|       0.0|   83|\n",
      "|  0.0|       0.0| 9426|\n",
      "+-----+----------+-----+\n",
      "\n"
     ]
    },
    {
     "name": "stderr",
     "output_type": "stream",
     "text": [
      "                                                                                \r"
     ]
    }
   ],
   "execution_count": 15
  },
  {
   "cell_type": "code",
   "metadata": {
    "ExecuteTime": {
     "end_time": "2024-11-20T20:42:26.514729Z",
     "start_time": "2024-11-20T20:42:25.341430Z"
    }
   },
   "source": [
    "# as in this dataset we have ground truth labels (we need them to train model), we can use ground truth labels for our bloom filter\n",
    "bot_user_identifiers = df.filter(col(\"bot\") == True).select(\"user\").distinct().collect()\n",
    "len(bot_user_identifiers)"
   ],
   "outputs": [
    {
     "data": {
      "text/plain": [
       "86"
      ]
     },
     "execution_count": 16,
     "metadata": {},
     "output_type": "execute_result"
    }
   ],
   "execution_count": 16
  },
  {
   "cell_type": "markdown",
   "metadata": {},
   "source": [
    "**Summary**\n",
    "\n",
    "We have used 40k of sampled records to label them (theoretically) and train basic Logistic Regression model. We don't want to make it over engineered and use some more complicated methods as basic approach shows good results.\n",
    "\n",
    "Now, we can sample much more data and use our model to make prediction to formulate list of users that can be bots."
   ]
  },
  {
   "cell_type": "markdown",
   "metadata": {},
   "source": [
    "## Sample more records and make the list of data for BloomFilter"
   ]
  },
  {
   "cell_type": "markdown",
   "metadata": {},
   "source": [
    "Here, we take another sample of data and used our model to make predictions. This allows to make a scalable process of adding more bots to the black list.\n",
    "\n",
    "We added evaluation step just to double check whether model works great on brand new dataset (in reality, we couldn't do it). "
   ]
  },
  {
   "cell_type": "code",
   "metadata": {
    "ExecuteTime": {
     "end_time": "2024-11-20T20:42:34.051588Z",
     "start_time": "2024-11-20T20:42:26.517822Z"
    }
   },
   "source": [
    "from pyspark.ml import PipelineModel\n",
    "\n",
    "# load best model\n",
    "loaded_model = PipelineModel.load(model_save_path)\n",
    "\n",
    "\n",
    "# load extended sample for prediction\n",
    "extended_df = spark.read.csv(\n",
    "    path=\"sample_data/80k_sample/*.csv\",\n",
    "    header=False,\n",
    "    schema=schema,\n",
    ")\n",
    "\n",
    "# preprocess data\n",
    "extended_df = extended_df.withColumn(\n",
    "    \"comment_length\", when(col(\"comment\").isNull(), 0).otherwise(length(col(\"comment\")))\n",
    ")\n",
    "extended_df = extended_df.fillna(\n",
    "    {\"length\": 0, \"comment_length\": 0, \"minor\": False, \"bot\": False, \"comment\": \"\"}\n",
    ")\n",
    "extended_df = extended_df.withColumn(\"label\", col(\"bot\").cast(\"double\"))\n",
    "\n",
    "\n",
    "# predict\n",
    "extended_predictions = loaded_model.transform(extended_df)\n",
    "\n",
    "\n",
    "# evaluate model on extended data (just to be sure model is ok even on new dataset)\n",
    "ex_recall = MulticlassClassificationEvaluator(\n",
    "    labelCol=\"label\", predictionCol=\"prediction\", metricName=\"weightedRecall\"\n",
    ").evaluate(extended_predictions)\n",
    "\n",
    "ex_precision = MulticlassClassificationEvaluator(\n",
    "    labelCol=\"label\",\n",
    "    predictionCol=\"prediction\",\n",
    "    metricName=\"weightedPrecision\",\n",
    ").evaluate(extended_predictions)\n",
    "\n",
    "ex_f1 = evaluator.evaluate(extended_predictions)\n",
    "\n",
    "\n",
    "# print evaluation results\n",
    "print(f\"Bot Prediction Recall: {ex_recall:.2f}\")\n",
    "print(f\"Bot Prediction Precision: {ex_precision:.2f}\")\n",
    "print(f\"Bot Prediction F1-score: {ex_f1:.2f}\")\n",
    "\n",
    "extended_predictions.groupBy(\"label\", \"prediction\").count().show()"
   ],
   "outputs": [
    {
     "name": "stderr",
     "output_type": "stream",
     "text": [
      "                                                                                \r"
     ]
    },
    {
     "name": "stdout",
     "output_type": "stream",
     "text": [
      "Bot Prediction Recall: 0.97\n",
      "Bot Prediction Precision: 0.97\n",
      "Bot Prediction F1-score: 0.97\n",
      "+-----+----------+-----+\n",
      "|label|prediction|count|\n",
      "+-----+----------+-----+\n",
      "|  1.0|       1.0| 7586|\n",
      "|  0.0|       1.0|  182|\n",
      "|  1.0|       0.0| 1095|\n",
      "|  0.0|       0.0|31900|\n",
      "+-----+----------+-----+\n",
      "\n"
     ]
    }
   ],
   "execution_count": 17
  },
  {
   "cell_type": "code",
   "metadata": {
    "ExecuteTime": {
     "end_time": "2024-11-20T20:42:34.970084Z",
     "start_time": "2024-11-20T20:42:34.052571Z"
    }
   },
   "source": [
    "# get list of predicted bots to add to our list with threshold 0.5\n",
    "predicted_bot_user_identifiers = (\n",
    "    extended_predictions.filter(col(\"prediction\") >= 0.5)\n",
    "    .select(\"user\")\n",
    "    .distinct()\n",
    "    .collect()\n",
    ")\n",
    "len(predicted_bot_user_identifiers)"
   ],
   "outputs": [
    {
     "data": {
      "text/plain": [
       "168"
      ]
     },
     "execution_count": 18,
     "metadata": {},
     "output_type": "execute_result"
    }
   ],
   "execution_count": 18
  },
  {
   "cell_type": "markdown",
   "metadata": {},
   "source": [
    "## BloomFilter"
   ]
  },
  {
   "cell_type": "markdown",
   "metadata": {},
   "source": [
    "Let's use our user identifiers to filter out bot users"
   ]
  },
  {
   "cell_type": "code",
   "metadata": {
    "id": "Pec0B0n6mqY9",
    "ExecuteTime": {
     "end_time": "2024-11-20T20:42:34.974526Z",
     "start_time": "2024-11-20T20:42:34.971154Z"
    }
   },
   "source": [
    "# union two sets of identifiers\n",
    "predicted_bot_users = {row[\"user\"] for row in predicted_bot_user_identifiers}\n",
    "ground_truth_bot_users = {row[\"user\"] for row in bot_user_identifiers}\n",
    "all_bot_user_identifiers = predicted_bot_users.union(ground_truth_bot_users)\n",
    "\n",
    "len(all_bot_user_identifiers)"
   ],
   "outputs": [
    {
     "data": {
      "text/plain": [
       "198"
      ]
     },
     "execution_count": 19,
     "metadata": {},
     "output_type": "execute_result"
    }
   ],
   "execution_count": 19
  },
  {
   "cell_type": "code",
   "metadata": {
    "id": "92HbSoQnsDDg",
    "ExecuteTime": {
     "end_time": "2024-11-20T20:42:34.977794Z",
     "start_time": "2024-11-20T20:42:34.975576Z"
    }
   },
   "source": [
    "# initialize Bloom Filter\n",
    "bf = BloomFilter(len(all_bot_user_identifiers), 0.1)\n",
    "\n",
    "for identifier in all_bot_user_identifiers:\n",
    "    bf.add(identifier)"
   ],
   "outputs": [],
   "execution_count": 20
  },
  {
   "cell_type": "code",
   "metadata": {
    "collapsed": false,
    "jupyter": {
     "outputs_hidden": false
    },
    "ExecuteTime": {
     "end_time": "2024-11-20T20:42:34.983799Z",
     "start_time": "2024-11-20T20:42:34.978836Z"
    }
   },
   "source": [
    "import pickle\n",
    "\n",
    "\n",
    "def save_bloom_filter(\n",
    "    bloom_filter,\n",
    "    filepath=\"bloom_filter.pickle\",\n",
    "):\n",
    "    \"\"\"\n",
    "    Serialize and save the Bloom filter to a file.\n",
    "    \"\"\"\n",
    "    state = bloom_filter.get_state()\n",
    "    with open(filepath, \"wb\") as f:\n",
    "        pickle.dump(state, f)\n",
    "    print(f\"Bloom filter saved to {filepath}.\")\n",
    "    \n",
    "save_bloom_filter(bf)"
   ],
   "outputs": [
    {
     "name": "stdout",
     "output_type": "stream",
     "text": [
      "Bloom filter saved to bloom_filter.pickle.\n"
     ]
    }
   ],
   "execution_count": 21
  },
  {
   "cell_type": "code",
   "metadata": {
    "colab": {
     "base_uri": "https://localhost:8080/"
    },
    "id": "ccyAKJkYrfmp",
    "outputId": "c0da1905-d33d-421d-e9f4-6fc61cbac84d",
    "ExecuteTime": {
     "end_time": "2024-11-20T20:42:42.862589Z",
     "start_time": "2024-11-20T20:42:34.984788Z"
    }
   },
   "source": [
    "bf_state = bf.get_state()\n",
    "\n",
    "# Broadcast the internal state\n",
    "bf_state_broadcast = spark.sparkContext.broadcast(bf_state)\n",
    "\n",
    "\n",
    "# Define the UDF\n",
    "def is_bot():\n",
    "    bf_local = None\n",
    "\n",
    "    def inner(username):\n",
    "        nonlocal bf_local\n",
    "        if bf_local is None:\n",
    "            # Reconstruct the Bloom filter\n",
    "            bf_state = bf_state_broadcast.value\n",
    "            bf_local = BloomFilter.from_state(bf_state)\n",
    "        return bf_local.contains(username)\n",
    "\n",
    "    return inner\n",
    "\n",
    "\n",
    "is_bot_udf = udf(is_bot(), BooleanType())\n",
    "\n",
    "# Extract unique usernames with their 'bot' label\n",
    "unique_users_df = extended_df.select(\"user\", \"bot\").distinct()\n",
    "unique_users_df = unique_users_df.fillna({\"user\": \"\", \"bot\": False})\n",
    "\n",
    "\n",
    "# Apply the UDF to get predictions\n",
    "unique_users_df = unique_users_df.withColumn(\"predicted_bot\", is_bot_udf(col(\"user\")))\n",
    "\n",
    "# Evaluate predictions\n",
    "unique_users_df = unique_users_df.withColumn(\n",
    "    \"correct_prediction\", col(\"predicted_bot\") == col(\"bot\")\n",
    ")\n",
    "\n",
    "correct_predictions_count = unique_users_df.filter(\n",
    "    col(\"correct_prediction\") == True\n",
    ").count()\n",
    "total_users = unique_users_df.count()\n",
    "accuracy = correct_predictions_count / total_users\n",
    "\n",
    "print(f\"Number of correctly predicted users: {correct_predictions_count}\")\n",
    "print(f\"Total number of unique users: {total_users}\")\n",
    "print(f\"Accuracy: {accuracy * 100:.2f}%\")\n",
    "\n",
    "# Confusion matrix components\n",
    "true_positive = (col(\"predicted_bot\") == True) & (col(\"bot\") == True)\n",
    "false_positive = (col(\"predicted_bot\") == True) & (col(\"bot\") == False)\n",
    "true_negative = (col(\"predicted_bot\") == False) & (col(\"bot\") == False)\n",
    "false_negative = (col(\"predicted_bot\") == False) & (col(\"bot\") == True)\n",
    "\n",
    "tp = unique_users_df.filter(true_positive).count()\n",
    "fp = unique_users_df.filter(false_positive).count()\n",
    "tn = unique_users_df.filter(true_negative).count()\n",
    "fn = unique_users_df.filter(false_negative).count()\n",
    "\n",
    "print(f\"True Positives (Bots correctly identified): {tp}\")\n",
    "print(f\"False Positives (Humans incorrectly identified as bots): {fp}\")\n",
    "print(f\"True Negatives (Humans correctly identified): {tn}\")\n",
    "print(f\"False Negatives (Bots missed): {fn}\")\n",
    "\n",
    "# Calculate Precision and Recall\n",
    "precision = tp / (tp + fp) if (tp + fp) > 0 else 0\n",
    "recall = tp / (tp + fn) if (tp + fn) > 0 else 0\n",
    "\n",
    "print(f\"Precision: {precision * 100:.2f}%\")\n",
    "print(f\"Recall: {recall * 100:.2f}%\")"
   ],
   "outputs": [
    {
     "name": "stderr",
     "output_type": "stream",
     "text": [
      "                                                                                \r"
     ]
    },
    {
     "name": "stdout",
     "output_type": "stream",
     "text": [
      "Number of correctly predicted users: 9482\n",
      "Total number of unique users: 10610\n",
      "Accuracy: 89.37%\n"
     ]
    },
    {
     "name": "stderr",
     "output_type": "stream",
     "text": [
      "                                                                                \r"
     ]
    },
    {
     "name": "stdout",
     "output_type": "stream",
     "text": [
      "True Positives (Bots correctly identified): 80\n",
      "False Positives (Humans incorrectly identified as bots): 1118\n",
      "True Negatives (Humans correctly identified): 9402\n",
      "False Negatives (Bots missed): 10\n",
      "Precision: 6.68%\n",
      "Recall: 88.89%\n"
     ]
    }
   ],
   "execution_count": 22
  }
 ],
 "metadata": {
  "colab": {
   "provenance": []
  },
  "kernelspec": {
   "display_name": "Python 3 (ipykernel)",
   "language": "python",
   "name": "python3"
  },
  "language_info": {
   "codemirror_mode": {
    "name": "ipython",
    "version": 3
   },
   "file_extension": ".py",
   "mimetype": "text/x-python",
   "name": "python",
   "nbconvert_exporter": "python",
   "pygments_lexer": "ipython3",
   "version": "3.10.13"
  }
 },
 "nbformat": 4,
 "nbformat_minor": 4
}
